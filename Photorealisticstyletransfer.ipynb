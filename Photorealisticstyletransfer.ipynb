{
  "nbformat": 4,
  "nbformat_minor": 0,
  "metadata": {
    "colab": {
      "name": "Photorealisticstyletransfer.ipynb",
      "version": "0.3.2",
      "provenance": [],
      "include_colab_link": true
    },
    "kernelspec": {
      "name": "python3",
      "display_name": "Python 3"
    },
    "accelerator": "GPU"
  },
  "cells": [
    {
      "cell_type": "markdown",
      "metadata": {
        "id": "view-in-github",
        "colab_type": "text"
      },
      "source": [
        "<a href=\"https://colab.research.google.com/github/ak9250/Photorealistic-Style-Transfer/blob/master/Photorealisticstyletransfer.ipynb\" target=\"_parent\"><img src=\"https://colab.research.google.com/assets/colab-badge.svg\" alt=\"Open In Colab\"/></a>"
      ]
    },
    {
      "metadata": {
        "id": "W7o4V-kas5zl",
        "colab_type": "code",
        "colab": {}
      },
      "cell_type": "code",
      "source": [
        "!git clone https://github.com/ak9250/Photorealistic-Style-Transfer.git"
      ],
      "execution_count": 0,
      "outputs": []
    },
    {
      "metadata": {
        "id": "Rgw6E_wAtEw3",
        "colab_type": "code",
        "colab": {}
      },
      "cell_type": "code",
      "source": [
        "cd Photorealistic-Style-Transfer/"
      ],
      "execution_count": 0,
      "outputs": []
    },
    {
      "metadata": {
        "id": "gLyzdGiXtIov",
        "colab_type": "code",
        "colab": {}
      },
      "cell_type": "code",
      "source": [
        "from PIL import Image\n",
        "import matplotlib.pyplot as plt \n",
        "import numpy as np\n",
        "import time\n",
        "\n",
        "import torch\n",
        "import torch.nn\n",
        "import torch.optim as optim\n",
        "from torchvision import transforms, models\n",
        "\n",
        "import HRNet\n",
        "import utils"
      ],
      "execution_count": 0,
      "outputs": []
    },
    {
      "metadata": {
        "id": "XaXLUem1tdPa",
        "colab_type": "code",
        "colab": {}
      },
      "cell_type": "code",
      "source": [
        "device = torch.device(\"cuda\" if torch.cuda.is_available() else \"cpu\")\n",
        "print('------------------------------------------------------------------')\n",
        "print(device)\n",
        "print('------------------------------------------------------------------')\n"
      ],
      "execution_count": 0,
      "outputs": []
    },
    {
      "metadata": {
        "id": "1Fe0YmkWtkkl",
        "colab_type": "code",
        "colab": {}
      },
      "cell_type": "code",
      "source": [
        "# get the VGG19's structure except the full-connect layers\n",
        "VGG = models.vgg19(pretrained=True).features\n",
        "VGG.to(device)\n",
        "print(VGG)\n",
        "# only use VGG19 to extract features, we don't need to change it's parameters\n",
        "for parameter in VGG.parameters():\n",
        "    parameter.requires_grad_(False)"
      ],
      "execution_count": 0,
      "outputs": []
    },
    {
      "metadata": {
        "id": "BeHc93getnGk",
        "colab_type": "code",
        "colab": {}
      },
      "cell_type": "code",
      "source": [
        "style_net = HRNet.HRNet()\n",
        "style_net.to(device)\n",
        "print(style_net)"
      ],
      "execution_count": 0,
      "outputs": []
    },
    {
      "metadata": {
        "id": "fOup-QSGIw9_",
        "colab_type": "code",
        "colab": {}
      },
      "cell_type": "code",
      "source": [
        "!wget url -O content.png"
      ],
      "execution_count": 0,
      "outputs": []
    },
    {
      "metadata": {
        "id": "Rx2lUCGo6tm3",
        "colab_type": "code",
        "colab": {}
      },
      "cell_type": "code",
      "source": [
        "!wget url -O style.png"
      ],
      "execution_count": 0,
      "outputs": []
    },
    {
      "metadata": {
        "id": "u6sbVujqtrZ7",
        "colab_type": "code",
        "colab": {}
      },
      "cell_type": "code",
      "source": [
        "content_image = utils.load_image(\"./content.png\", img_size=500)  # temporary/content.png\n",
        "content_image = content_image.to(device)\n",
        "\n",
        "style_image = utils.load_image(\"./style.png\")  # temporary/style.png\n",
        "style_image = style_image.to(device)"
      ],
      "execution_count": 0,
      "outputs": []
    },
    {
      "metadata": {
        "id": "tfdcVLBNtu2h",
        "colab_type": "code",
        "colab": {}
      },
      "cell_type": "code",
      "source": [
        "\n",
        "# display the raw images\n",
        "fig, (ax1, ax2) = plt.subplots(1, 2, figsize=(20, 10))\n",
        "# content and style ims side-by-side\n",
        "ax1.imshow(utils.im_convert(content_image))\n",
        "ax2.imshow(utils.im_convert(style_image))\n",
        "plt.show()"
      ],
      "execution_count": 0,
      "outputs": []
    },
    {
      "metadata": {
        "id": "BSrBewKltyYR",
        "colab_type": "code",
        "colab": {}
      },
      "cell_type": "code",
      "source": [
        "content_features = utils.get_features(content_image, VGG)\n",
        "style_features   = utils.get_features(style_image, VGG)\n",
        "\n",
        "style_gram_matrixs = {layer: utils.get_grim_matrix(style_features[layer]) for layer in style_features}\n",
        "\n",
        "target = content_image.clone().requires_grad_(True).to(device)"
      ],
      "execution_count": 0,
      "outputs": []
    },
    {
      "metadata": {
        "id": "Rogm2gHjt1sQ",
        "colab_type": "code",
        "colab": {}
      },
      "cell_type": "code",
      "source": [
        "# try to give fore con_layers more weight so that can get more detail in output iamge\n",
        "style_weights = {'conv1_1': 0.1,\n",
        "                 'conv2_1': 0.2,\n",
        "                 'conv3_1': 0.4,\n",
        "                 'conv4_1': 0.8,\n",
        "                 'conv5_1': 1.6}\n",
        "\n",
        "content_weight = 150\n",
        "style_weight = 1\n",
        "\n",
        "show_every = 100\n",
        "optimizer = optim.Adam(style_net.parameters(), lr=5e-3)\n",
        "scheduler = torch.optim.lr_scheduler.StepLR(optimizer, step_size=200, gamma=0.9)\n",
        "steps = 1000\n",
        "\n",
        "content_loss_epoch = []\n",
        "style_loss_epoch = []\n",
        "total_loss_epoch = []\n",
        "output_image = content_image"
      ],
      "execution_count": 0,
      "outputs": []
    },
    {
      "metadata": {
        "id": "mEeao8mLt4Oj",
        "colab_type": "code",
        "colab": {}
      },
      "cell_type": "code",
      "source": [
        "time_start=time.time()\n",
        "for epoch in range(0, steps+1):\n",
        "    \n",
        "    scheduler.step()\n",
        "\n",
        "    target = style_net(content_image).to(device)\n",
        "    target.requires_grad_(True)\n",
        "\n",
        "\n",
        "    target_features = utils.get_features(target, VGG)  # extract output image's all feature maps\n",
        "    content_loss = torch.mean((target_features['conv4_2'] - content_features['conv4_2']) ** 2)\n",
        "    \n",
        "    style_loss = 0\n",
        "\n",
        "    # compute each layer's style loss and add them\n",
        "    for layer in style_weights:\n",
        "        \n",
        "        target_feature = target_features[layer]  # output image's feature map after layer\n",
        "        target_gram_matrix = utils.get_grim_matrix(target_feature)\n",
        "        style_gram_matrix = style_gram_matrixs[layer]\n",
        "\n",
        "        layer_style_loss = style_weights[layer] * torch.mean((target_gram_matrix - style_gram_matrix) ** 2)\n",
        "        b, c, h, w = target_feature.shape\n",
        "        style_loss += layer_style_loss / (c * h * w)\n",
        "    \n",
        "\n",
        "    total_loss = content_weight * content_loss + style_weight * style_loss\n",
        "    total_loss_epoch.append(total_loss)\n",
        "\n",
        "    style_loss_epoch.append(style_weight * style_loss)\n",
        "    content_loss_epoch.append(content_weight * content_loss)\n",
        "\n",
        "    optimizer.zero_grad()\n",
        "    total_loss.backward()\n",
        "    optimizer.step()\n",
        "\n",
        "    if epoch % show_every == 0:\n",
        "        print(\"After %d criterions:\" % epoch)\n",
        "        print('Total loss: ', total_loss.item())\n",
        "        print('Content loss: ', content_loss.item())\n",
        "        print('Style loss: ', style_loss.item())\n",
        "        plt.imshow(utils.im_convert(target))\n",
        "        plt.show()\n",
        "\n",
        "    output_image = target\n",
        "time_end=time.time()\n",
        "print('totally cost', time_end - time_start)"
      ],
      "execution_count": 0,
      "outputs": []
    },
    {
      "metadata": {
        "id": "4SMZh17Wt7Vh",
        "colab_type": "code",
        "colab": {}
      },
      "cell_type": "code",
      "source": [
        "# plot the line chart\n",
        "epoch = range(0, steps + 1)\n",
        "fig, (ax1, ax2, ax3) = plt.subplots(1, 3, figsize=(20, 10))                                                       \n",
        "\n",
        "ax1.plot(epoch, total_loss_epoch)\n",
        "ax1.set_title(\"Total loss\")\n",
        "ax1.set_xlabel(\"epoch\")\n",
        "ax1.set_ylabel(\"Total loss\")\n",
        "\n",
        "ax2.plot(epoch, style_loss_epoch)\n",
        "ax2.set_title(\"Style loss\")\n",
        "ax2.set_xlabel(\"epoch\")\n",
        "ax2.set_ylabel(\"Style loss\")\n",
        "\n",
        "ax3.plot(epoch, content_loss_epoch)\n",
        "ax3.set_title(\"Content loss\")\n",
        "ax3.set_xlabel(\"epoch\")\n",
        "ax3.set_ylabel(\"Content loss\")\n",
        "\n",
        "\n",
        "plt.show()"
      ],
      "execution_count": 0,
      "outputs": []
    },
    {
      "metadata": {
        "id": "m7dtrWjKx1io",
        "colab_type": "code",
        "colab": {}
      },
      "cell_type": "code",
      "source": [
        "# display the raw images\n",
        "fig, (ax1, ax2) = plt.subplots(1, 2, figsize=(20, 10))\n",
        "# content and style ims side-by-side\n",
        "ax1.imshow(utils.im_convert(content_image))\n",
        "ax2.imshow(utils.im_convert(output_image))\n",
        "plt.show()"
      ],
      "execution_count": 0,
      "outputs": []
    }
  ]
}